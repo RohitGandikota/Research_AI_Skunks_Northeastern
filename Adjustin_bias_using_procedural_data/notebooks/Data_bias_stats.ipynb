{
 "cells": [
  {
   "cell_type": "code",
   "execution_count": 3,
   "id": "b8952630-8441-4295-926a-845e0110c518",
   "metadata": {},
   "outputs": [],
   "source": [
    "import pandas as pd\n",
    "df_final=pd.read_csv(\"/home/gupta.shes/animals/acc.csv\")"
   ]
  },
  {
   "cell_type": "code",
   "execution_count": 5,
   "id": "4d58ffa3-9496-4e7e-9986-079f6c73d59d",
   "metadata": {},
   "outputs": [],
   "source": [
    "import numpy as np\n",
    "table = pd.pivot_table(df_final, values='accuracy', index=['animal'],columns=['model'], aggfunc=np.mean)"
   ]
  },
  {
   "cell_type": "code",
   "execution_count": 6,
   "id": "81a2e3f0-c0c8-4b8c-bfeb-2f906d20e7b7",
   "metadata": {},
   "outputs": [
    {
     "data": {
      "image/png": "[encoded data removed]",
      "text/plain": [
       "<Figure size 1440x1080 with 1 Axes>"
      ]
     },
     "metadata": {
      "needs_background": "light"
     },
     "output_type": "display_data"
    }
   ],
   "source": [
    "ax = table.plot.bar(rot=0,figsize=(20,15))"
   ]
  },
  {
   "cell_type": "code",
   "execution_count": 7,
   "id": "94b96018-4a1a-4ddb-9392-3a7be0ecb98f",
   "metadata": {},
   "outputs": [
    {
     "data": {
      "text/html": [
       "<div>\n",
       "<style scoped>\n",
       "    .dataframe tbody tr th:only-of-type {\n",
       "        vertical-align: middle;\n",
       "    }\n",
       "\n",
       "    .dataframe tbody tr th {\n",
       "        vertical-align: top;\n",
       "    }\n",
       "\n",
       "    .dataframe thead th {\n",
       "        text-align: right;\n",
       "    }\n",
       "</style>\n",
       "<table border=\"1\" class=\"dataframe\">\n",
       "  <thead>\n",
       "    <tr style=\"text-align: right;\">\n",
       "      <th>model</th>\n",
       "      <th>top_model_weights_no_3d</th>\n",
       "      <th>top_model_weights_with_3d</th>\n",
       "      <th>top_model_weights_with_3d_2</th>\n",
       "    </tr>\n",
       "    <tr>\n",
       "      <th>animal</th>\n",
       "      <th></th>\n",
       "      <th></th>\n",
       "      <th></th>\n",
       "    </tr>\n",
       "  </thead>\n",
       "  <tbody>\n",
       "    <tr>\n",
       "      <th>bear</th>\n",
       "      <td>0.53480</td>\n",
       "      <td>0.64840</td>\n",
       "      <td>0.64904</td>\n",
       "    </tr>\n",
       "    <tr>\n",
       "      <th>dog</th>\n",
       "      <td>0.87062</td>\n",
       "      <td>0.82293</td>\n",
       "      <td>0.86376</td>\n",
       "    </tr>\n",
       "    <tr>\n",
       "      <th>elephant</th>\n",
       "      <td>0.80166</td>\n",
       "      <td>0.81259</td>\n",
       "      <td>0.80783</td>\n",
       "    </tr>\n",
       "    <tr>\n",
       "      <th>horse</th>\n",
       "      <td>0.70566</td>\n",
       "      <td>0.66408</td>\n",
       "      <td>0.65252</td>\n",
       "    </tr>\n",
       "    <tr>\n",
       "      <th>sheep</th>\n",
       "      <td>0.68271</td>\n",
       "      <td>0.74201</td>\n",
       "      <td>0.75633</td>\n",
       "    </tr>\n",
       "  </tbody>\n",
       "</table>\n",
       "</div>"
      ],
      "text/plain": [
       "model     top_model_weights_no_3d  top_model_weights_with_3d  \\\n",
       "animal                                                         \n",
       "bear                      0.53480                    0.64840   \n",
       "dog                       0.87062                    0.82293   \n",
       "elephant                  0.80166                    0.81259   \n",
       "horse                     0.70566                    0.66408   \n",
       "sheep                     0.68271                    0.74201   \n",
       "\n",
       "model     top_model_weights_with_3d_2  \n",
       "animal                                 \n",
       "bear                          0.64904  \n",
       "dog                           0.86376  \n",
       "elephant                      0.80783  \n",
       "horse                         0.65252  \n",
       "sheep                         0.75633  "
      ]
     },
     "execution_count": 7,
     "metadata": {},
     "output_type": "execute_result"
    }
   ],
   "source": [
    "table"
   ]
  },
  {
   "cell_type": "code",
   "execution_count": 8,
   "id": "82be68a2-e2da-43ef-bcf5-1e2935e9cc62",
   "metadata": {},
   "outputs": [],
   "source": [
    "table.to_csv(\"table_final.csv\")"
   ]
  },
  {
   "cell_type": "code",
   "execution_count": 9,
   "id": "e3ef1e66-2fab-4f54-bf18-59b20c7f0501",
   "metadata": {},
   "outputs": [],
   "source": [
    "fig =ax.figure\n",
    "fig.savefig(\"result_final.pdf\")"
   ]
  },
  {
   "cell_type": "code",
   "execution_count": 11,
   "id": "94dbbc14-7497-4805-bcac-a0dc1f878ec0",
   "metadata": {},
   "outputs": [
    {
     "data": {
      "text/html": [
       "<div>\n",
       "<style scoped>\n",
       "    .dataframe tbody tr th:only-of-type {\n",
       "        vertical-align: middle;\n",
       "    }\n",
       "\n",
       "    .dataframe tbody tr th {\n",
       "        vertical-align: top;\n",
       "    }\n",
       "\n",
       "    .dataframe thead th {\n",
       "        text-align: right;\n",
       "    }\n",
       "</style>\n",
       "<table border=\"1\" class=\"dataframe\">\n",
       "  <thead>\n",
       "    <tr style=\"text-align: right;\">\n",
       "      <th></th>\n",
       "      <th>Unnamed: 0</th>\n",
       "      <th>model</th>\n",
       "      <th>animal</th>\n",
       "      <th>accuracy</th>\n",
       "    </tr>\n",
       "  </thead>\n",
       "  <tbody>\n",
       "    <tr>\n",
       "      <th>0</th>\n",
       "      <td>0</td>\n",
       "      <td>top_model_weights_no_3d</td>\n",
       "      <td>bear</td>\n",
       "      <td>0.565</td>\n",
       "    </tr>\n",
       "    <tr>\n",
       "      <th>1</th>\n",
       "      <td>1</td>\n",
       "      <td>top_model_weights_no_3d</td>\n",
       "      <td>bear</td>\n",
       "      <td>0.585</td>\n",
       "    </tr>\n",
       "    <tr>\n",
       "      <th>2</th>\n",
       "      <td>2</td>\n",
       "      <td>top_model_weights_no_3d</td>\n",
       "      <td>bear</td>\n",
       "      <td>0.590</td>\n",
       "    </tr>\n",
       "    <tr>\n",
       "      <th>3</th>\n",
       "      <td>3</td>\n",
       "      <td>top_model_weights_no_3d</td>\n",
       "      <td>bear</td>\n",
       "      <td>0.570</td>\n",
       "    </tr>\n",
       "    <tr>\n",
       "      <th>4</th>\n",
       "      <td>4</td>\n",
       "      <td>top_model_weights_no_3d</td>\n",
       "      <td>bear</td>\n",
       "      <td>0.580</td>\n",
       "    </tr>\n",
       "  </tbody>\n",
       "</table>\n",
       "</div>"
      ],
      "text/plain": [
       "   Unnamed: 0                    model animal  accuracy\n",
       "0           0  top_model_weights_no_3d   bear     0.565\n",
       "1           1  top_model_weights_no_3d   bear     0.585\n",
       "2           2  top_model_weights_no_3d   bear     0.590\n",
       "3           3  top_model_weights_no_3d   bear     0.570\n",
       "4           4  top_model_weights_no_3d   bear     0.580"
      ]
     },
     "execution_count": 11,
     "metadata": {},
     "output_type": "execute_result"
    }
   ],
   "source": [
    "df_final.head()"
   ]
  },
  {
   "cell_type": "code",
   "execution_count": 12,
   "id": "a77d387b-a5f3-44df-aae0-f609784d7679",
   "metadata": {},
   "outputs": [],
   "source": [
    "import scipy.stats as st"
   ]
  },
  {
   "cell_type": "code",
   "execution_count": 27,
   "id": "2d1b62b9-e5ce-4e32-9031-9acfe3982d87",
   "metadata": {},
   "outputs": [],
   "source": [
    "keyword_list = ['bear','sheep','dog','horse','elephant']#animals\n",
    "model_list = ['top_model_weights_no_3d.h5','top_model_weights_with_3d.h5','top_model_weights_with_3d_2.h5']"
   ]
  },
  {
   "cell_type": "code",
   "execution_count": 28,
   "id": "f636bcd2-fd5f-4b48-8ac0-3a311eb75674",
   "metadata": {},
   "outputs": [
    {
     "name": "stdout",
     "output_type": "stream",
     "text": [
      "bear\n",
      "top_model_weights_no_3d.h5\n",
      "(0.5316845879502172, 0.5379154120497824)\n",
      "top_model_weights_with_3d.h5\n",
      "(0.6454438770018157, 0.6513561229981849)\n",
      "top_model_weights_with_3d_2.h5\n",
      "(0.6461913719795908, 0.6518886280204089)\n",
      "sheep\n",
      "top_model_weights_no_3d.h5\n",
      "(0.6797492149265962, 0.6856707850734041)\n",
      "top_model_weights_with_3d.h5\n",
      "(0.7394166283453301, 0.7446033716546727)\n",
      "top_model_weights_with_3d_2.h5\n",
      "(0.7537195756306722, 0.7589404243693271)\n",
      "dog\n",
      "top_model_weights_no_3d.h5\n",
      "(0.86852343155255, 0.8727165684474524)\n",
      "top_model_weights_with_3d.h5\n",
      "(0.8205027976389079, 0.8253572023610929)\n",
      "top_model_weights_with_3d_2.h5\n",
      "(0.8615758814693575, 0.8659441185306442)\n",
      "horse\n",
      "top_model_weights_no_3d.h5\n",
      "(0.7029347731939645, 0.7083852268060363)\n",
      "top_model_weights_with_3d.h5\n",
      "(0.6612672056725515, 0.6668927943274474)\n",
      "top_model_weights_with_3d_2.h5\n",
      "(0.6495009443415476, 0.6555390556584522)\n",
      "elephant\n",
      "top_model_weights_no_3d.h5\n",
      "(0.7991678845343991, 0.8041521154655981)\n",
      "top_model_weights_with_3d.h5\n",
      "(0.8100958715575248, 0.8150841284424766)\n",
      "top_model_weights_with_3d_2.h5\n",
      "(0.8054984209403556, 0.8101615790596438)\n"
     ]
    }
   ],
   "source": [
    "for animal in keyword_list:\n",
    "    print(animal)\n",
    "    for model in model_list: \n",
    "        print(model)\n",
    "        df_bear = df_final[(df_final['model']==model.split('.')[0]) & (df_final['animal']==animal)]\n",
    "        ci=st.t.interval(alpha=0.95, df=len(df_bear['accuracy'])-1, loc=np.mean(df_bear['accuracy']), scale=st.sem(df_bear['accuracy']))\n",
    "        print(ci)"
   ]
  },
  {
   "cell_type": "code",
   "execution_count": null,
   "id": "37e9d0f0-1ccf-4de7-8a29-574417c7df36",
   "metadata": {},
   "outputs": [],
   "source": []
  }
 ],
 "metadata": {
  "kernelspec": {
   "display_name": "Python 3",
   "language": "python",
   "name": "python3"
  },
  "language_info": {
   "codemirror_mode": {
    "name": "ipython",
    "version": 3
   },
   "file_extension": ".py",
   "mimetype": "text/x-python",
   "name": "python",
   "nbconvert_exporter": "python",
   "pygments_lexer": "ipython3",
   "version": "3.7.10"
  }
 },
 "nbformat": 4,
 "nbformat_minor": 5
}
